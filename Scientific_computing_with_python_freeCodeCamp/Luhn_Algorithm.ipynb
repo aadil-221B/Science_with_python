{
 "cells": [
  {
   "cell_type": "code",
   "execution_count": 1,
   "id": "e5e8c35b-b9fb-47e9-a5df-be30b8e4624e",
   "metadata": {},
   "outputs": [
    {
     "name": "stdout",
     "output_type": "stream",
     "text": [
      "INVALID!\n"
     ]
    }
   ],
   "source": [
    "def verify_card_number(card_number):\n",
    "    \"\"\"\n",
    "    Verify the validity of a credit card number using the Luhn Algorithm.\n",
    "\n",
    "    Args:\n",
    "        card_number (str): The credit card number to be verified.\n",
    "\n",
    "    Returns:\n",
    "        bool: True if the card number is valid, False otherwise.\n",
    "    \"\"\"\n",
    "    # Initialize variables to store the sum of odd and even digits\n",
    "    sum_of_odd_digits = 0\n",
    "    sum_of_even_digits = 0\n",
    "\n",
    "    # Reverse the card number for easier processing\n",
    "    card_number_reversed = card_number[::-1]\n",
    "\n",
    "    # Extract odd digits (every second digit from the right)\n",
    "    odd_digits = card_number_reversed[::2]\n",
    "\n",
    "    # Calculate the sum of odd digits\n",
    "    for digit in odd_digits:\n",
    "        sum_of_odd_digits += int(digit)\n",
    "\n",
    "    # Extract even digits (every second digit from the right, starting from the second digit)\n",
    "    even_digits = card_number_reversed[1::2]\n",
    "\n",
    "    # Calculate the sum of even digits after doubling and adjusting if necessary\n",
    "    for digit in even_digits:\n",
    "        number = int(digit) * 2\n",
    "        if number >= 10:\n",
    "            number = (number // 10) + (number % 10)\n",
    "        sum_of_even_digits += number\n",
    "\n",
    "    # Calculate the total sum of both odd and even digits\n",
    "    total = sum_of_odd_digits + sum_of_even_digits\n",
    "\n",
    "    # Check if the total sum is divisible by 10 (valid according to Luhn Algorithm)\n",
    "    return total % 10 == 0\n",
    "\n",
    "\n",
    "def main():\n",
    "    \"\"\"\n",
    "    Main function to test the credit card number validation using the Luhn Algorithm.\n",
    "    \"\"\"\n",
    "    # Sample credit card number\n",
    "    card_number = '4111-1111-4555-1141'\n",
    "\n",
    "    # Remove any spaces or hyphens from the credit card number\n",
    "    card_translation = str.maketrans({'-': '', ' ': ''})\n",
    "    translated_card_number = card_number.translate(card_translation)\n",
    "\n",
    "    # Verify the validity of the credit card number and print the result\n",
    "    if verify_card_number(translated_card_number):\n",
    "        print('VALID!')\n",
    "    else:\n",
    "        print('INVALID!')\n",
    "\n",
    "\n",
    "if __name__ == \"__main__\":\n",
    "    main()\n"
   ]
  },
  {
   "cell_type": "code",
   "execution_count": null,
   "id": "1a1b72c1-a4a8-485f-aab8-efadf2ba155e",
   "metadata": {},
   "outputs": [],
   "source": []
  }
 ],
 "metadata": {
  "kernelspec": {
   "display_name": "Python 3 (ipykernel)",
   "language": "python",
   "name": "python3"
  },
  "language_info": {
   "codemirror_mode": {
    "name": "ipython",
    "version": 3
   },
   "file_extension": ".py",
   "mimetype": "text/x-python",
   "name": "python",
   "nbconvert_exporter": "python",
   "pygments_lexer": "ipython3",
   "version": "3.11.5"
  }
 },
 "nbformat": 4,
 "nbformat_minor": 5
}
