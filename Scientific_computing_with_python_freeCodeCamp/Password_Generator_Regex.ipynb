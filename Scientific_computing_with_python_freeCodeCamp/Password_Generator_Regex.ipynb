{
 "cells": [
  {
   "cell_type": "code",
   "execution_count": 1,
   "id": "5c6c3fa4-d276-44df-97e0-991f23ac5e5a",
   "metadata": {},
   "outputs": [
    {
     "name": "stdout",
     "output_type": "stream",
     "text": [
      "Generated password: 2Qhml$h_(AX#J#ic\n"
     ]
    }
   ],
   "source": [
    "import re\n",
    "import secrets\n",
    "import string\n",
    "\n",
    "def generate_password(length=16, nums=1, special_chars=1, uppercase=1, lowercase=1):\n",
    "    \"\"\"\n",
    "    Generate a random password with specified constraints.\n",
    "\n",
    "    Args:\n",
    "        length (int): Length of the password (default is 16).\n",
    "        nums (int): Minimum number of digits in the password (default is 1).\n",
    "        special_chars (int): Minimum number of special characters in the password (default is 1).\n",
    "        uppercase (int): Minimum number of uppercase letters in the password (default is 1).\n",
    "        lowercase (int): Minimum number of lowercase letters in the password (default is 1).\n",
    "\n",
    "    Returns:\n",
    "        str: Generated password.\n",
    "\n",
    "    Raises:\n",
    "        None\n",
    "    \"\"\"\n",
    "    # Define the possible characters for the password\n",
    "    letters = string.ascii_letters\n",
    "    digits = string.digits\n",
    "    symbols = string.punctuation\n",
    "\n",
    "    # Combine all characters\n",
    "    all_characters = letters + digits + symbols\n",
    "\n",
    "    while True:\n",
    "        password = ''\n",
    "        # Generate password\n",
    "        for _ in range(length):\n",
    "            password += secrets.choice(all_characters)\n",
    "        \n",
    "        # Define constraints for the password\n",
    "        constraints = [\n",
    "            (nums, r'\\d'),  # At least 'nums' digits\n",
    "            (special_chars, fr'[{symbols}]'),  # At least 'special_chars' special characters\n",
    "            (uppercase, r'[A-Z]'),  # At least 'uppercase' uppercase letters\n",
    "            (lowercase, r'[a-z]')  # At least 'lowercase' lowercase letters\n",
    "        ]\n",
    "\n",
    "        # Check if the password meets all constraints        \n",
    "        if all(\n",
    "            constraint <= len(re.findall(pattern, password))\n",
    "            for constraint, pattern in constraints\n",
    "        ):\n",
    "            break\n",
    "    \n",
    "    return password\n",
    "\n",
    "# Generate a new password and print it\n",
    "new_password = generate_password()\n",
    "print('Generated password:', new_password)\n"
   ]
  },
  {
   "cell_type": "code",
   "execution_count": null,
   "id": "7e38405e-1d6b-4732-bd04-9e91b8a592b9",
   "metadata": {},
   "outputs": [],
   "source": []
  }
 ],
 "metadata": {
  "kernelspec": {
   "display_name": "Python 3 (ipykernel)",
   "language": "python",
   "name": "python3"
  },
  "language_info": {
   "codemirror_mode": {
    "name": "ipython",
    "version": 3
   },
   "file_extension": ".py",
   "mimetype": "text/x-python",
   "name": "python",
   "nbconvert_exporter": "python",
   "pygments_lexer": "ipython3",
   "version": "3.11.5"
  }
 },
 "nbformat": 4,
 "nbformat_minor": 5
}
