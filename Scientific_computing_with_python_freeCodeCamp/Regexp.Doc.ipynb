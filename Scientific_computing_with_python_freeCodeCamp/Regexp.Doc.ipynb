{
 "cells": [
  {
   "cell_type": "markdown",
   "id": "20a989a1-1d37-4478-b3ff-d8e77b204329",
   "metadata": {},
   "source": [
    "# 🔍 Mastering Regular Expressions (Regex) in Python\r\n",
    "\r\n",
    "---\r\n",
    "\r\n",
    "## 🚀 Introduction\r\n",
    "\r\n",
    "Regular expressions (regex) are powerful tools for pattern matching and string manipulation in Python. Understanding regex allows you to perform advanced text processing tasks with ease and precision.\r\n",
    "\r\n",
    "---\r\n",
    "\r\n",
    "## 🔑 Key Concepts\r\n",
    "\r\n",
    "### 📝 Basic Syntax\r\n",
    "- **Literals:** Characters that match themselves.\r\n",
    "    - Example: The regex `hello` matches the string \"hello\" exactly.\r\n",
    "- **Metacharacters:** Special characters with special meanings in regex.\r\n",
    "    - Example: The regex `.` matches any single character except newline.\r\n",
    "- **Character Classes:** Define a set of characters to match.\r\n",
    "    - Example: The regex `[aeiou]` matches any vowel.\r\n",
    "- **Quantifiers:** Specify the number of occurrences of a character or group.\r\n",
    "    - Example: The regex `a{2,4}` matches 'a', 'aa', 'aaa', or 'aaaa'.\r\n",
    "- **Anchors:** Specify positions in the text.\r\n",
    "    - Example: The regex `^hello` matches 'hello' only if it occurs at the start of a line.\r\n",
    "- **Groups and Capture Groups:** Create subpatterns for quantification or capturing matched text.\r\n",
    "    - Example: The regex `(ab)+` matches 'ab', 'abab', 'ababab', etc.\r\n",
    "- **Escaping:** Use `\\` to escape metacharacters if you want to match them literally.\r\n",
    "    - Example: The regex `\\.` matches a literal period.\r\n",
    "\r\n",
    "### 🌀 Common Patterns\r\n",
    "- **Literal Matches:** Match specific characters.\r\n",
    "- **Character Classes:** Match any character from a specified set.\r\n",
    "- **Quantifiers:** Control the number of occurrences of a character or group.\r\n",
    "- **Anchors:** Specify the position in the text.\r\n",
    "- **Alternation:** Match one of several alternatives.\r\n",
    "- **Groups:** Create subpatterns for quantification or capturing.\r\n",
    "- **Escape Sequences:** Match special characters or character classes.\r\n",
    "\r\n",
    "### 💻 Usage in Python\r\n",
    "- Python's `re` module provides support for regex operations.\r\n",
    "- Common functions include `re.match()`, `re.search()`, `re.findall()`, `re.sub()`, etc.\r\n",
    "- Patterns are compiled into regex objects using `re.compile()` for efficient reuse.\r\n",
    "\r\n",
    "---\r\n",
    "\r\n",
    "## 💡 Practical Applications\r\n",
    "\r\n",
    "### 🎯 Text Search and Extraction\r\n",
    "- Find specific patterns or substrings within text data.\r\n",
    "```python\r\n",
    "import re\r\n",
    "\r\n",
    "# Search for email addresses in a text document\r\n",
    "text = \"Contact us at email@example.com or info@example.org for inquiries.\"\r\n",
    "email_pattern = r'\\b[A-Za-z0-9._%+-]+@[A-Za-z0-9.-]+\\.[A-Z|a-z]{2,}\\b'\r\n",
    "emails_found = re.findall(email_pattern, text)\r\n",
    "print(\"Email addresses found:\", emails_found)\r\n",
    "\r\n",
    "print(\"Email addresses found:\", emails_found)\r\n"
   ]
  },
  {
   "cell_type": "markdown",
   "id": "ec7bbfe7-1e24-487e-a7d1-300ad8b9e9b5",
   "metadata": {},
   "source": [
    "\n",
    "## ✅ Validation\r",
    "-  \n",
    "Verify the format or structure of user input\n",
    "."
   ]
  },
  {
   "cell_type": "code",
   "execution_count": 1,
   "id": "a1d0caaf-c39e-482d-a262-29c1205333e8",
   "metadata": {},
   "outputs": [
    {
     "name": "stdout",
     "output_type": "stream",
     "text": [
      "URLs found: ['https://www.example.com']\n"
     ]
    }
   ],
   "source": [
    "import re\n",
    "\n",
    "# Search for URLs in a text document\n",
    "text = \"Visit our website at https://www.example.com for more information.\"\n",
    "url_pattern = r'https?://(?:www\\.)?\\w+\\.\\w+'\n",
    "urls_found = re.findall(url_pattern, text)\n",
    "print(\"URLs found:\", urls_found)"
   ]
  },
  {
   "cell_type": "code",
   "execution_count": 2,
   "id": "97b46b08-9189-46a9-88bc-c6e81eedd97e",
   "metadata": {},
   "outputs": [
    {
     "name": "stdout",
     "output_type": "stream",
     "text": [
      "Is the phone number valid? True\n"
     ]
    }
   ],
   "source": [
    "import re\n",
    "\n",
    "# Validate phone number format\n",
    "phone_number = \"+1234567890\"\n",
    "phone_pattern = r'^\\+\\d{1,3}\\d{9}$'\n",
    "is_valid = bool(re.match(phone_pattern, phone_number))\n",
    "print(\"Is the phone number valid?\", is_valid)\n"
   ]
  },
  {
   "cell_type": "code",
   "execution_count": 3,
   "id": "b14dc768-e676-477a-b019-d1c623791e20",
   "metadata": {},
   "outputs": [
    {
     "name": "stdout",
     "output_type": "stream",
     "text": [
      "Is the password strong? True\n"
     ]
    }
   ],
   "source": [
    "import re\n",
    "\n",
    "# Validate password strength\n",
    "password = \"MySecurePassword123!\"\n",
    "password_pattern = r'^(?=.*[a-z])(?=.*[A-Z])(?=.*\\d)(?=.*[@$!%*?&])[A-Za-z\\d@$!%*?&]{8,}$'\n",
    "is_strong = bool(re.match(password_pattern, password))\n",
    "print(\"Is the password strong?\", is_strong)\n"
   ]
  },
  {
   "cell_type": "markdown",
   "id": "ca4eecfa-d4c4-4e79-81c1-54554c4ef0d1",
   "metadata": {},
   "source": [
    "## 🧹 Data Cleaning\r",
    "-  \n",
    "Remove or replace unwanted characters, normalize text data."
   ]
  },
  {
   "cell_type": "code",
   "execution_count": 4,
   "id": "f4d8794d-f618-4499-ad9f-f373c3829379",
   "metadata": {},
   "outputs": [
    {
     "name": "stdout",
     "output_type": "stream",
     "text": [
      "Cleaned text: Hello world How are you\n"
     ]
    }
   ],
   "source": [
    "import re\n",
    "\n",
    "# Remove punctuation from text\n",
    "text_with_punctuation = \"Hello, world! How are you?\"\n",
    "cleaned_text = re.sub(r'[^\\w\\s]', '', text_with_punctuation)\n",
    "print(\"Cleaned text:\", cleaned_text)\n"
   ]
  },
  {
   "cell_type": "code",
   "execution_count": 5,
   "id": "f4c1e26d-6e05-47f7-935d-1022baa8dc4c",
   "metadata": {},
   "outputs": [
    {
     "name": "stdout",
     "output_type": "stream",
     "text": [
      "Cleaned text: This is bold and italic.\n"
     ]
    }
   ],
   "source": [
    "import re\n",
    "\n",
    "# Remove HTML tags from text\n",
    "html_text = \"<p>This is <b>bold</b> and <i>italic</i>.</p>\"\n",
    "cleaned_text = re.sub(r'<[^>]+>', '', html_text)\n",
    "print(\"Cleaned text:\", cleaned_text)\n"
   ]
  },
  {
   "cell_type": "markdown",
   "id": "fe65c8da-5a90-4a2a-878f-51b3698159e8",
   "metadata": {},
   "source": [
    "## 🔖 Tokenization\r",
    "-  \n",
    "Split text into meaningful tokens (words, sentences, etc.)."
   ]
  },
  {
   "cell_type": "code",
   "execution_count": 6,
   "id": "ce87da67-e92a-477d-9759-2b5ff169142a",
   "metadata": {},
   "outputs": [
    {
     "name": "stdout",
     "output_type": "stream",
     "text": [
      "Words in the sentence: ['This', 'is', 'a', 'sample', 'sentence']\n"
     ]
    }
   ],
   "source": [
    "import re\n",
    "\n",
    "# Tokenize a sentence into words\n",
    "sentence = \"This is a sample sentence.\"\n",
    "words = re.findall(r'\\b\\w+\\b', sentence)\n",
    "print(\"Words in the sentence:\", words)\n"
   ]
  },
  {
   "cell_type": "code",
   "execution_count": 7,
   "id": "f76109c7-8318-4f98-9386-ab713bfa4dc3",
   "metadata": {},
   "outputs": [
    {
     "name": "stdout",
     "output_type": "stream",
     "text": [
      "Sentences in the document: [' ']\n"
     ]
    }
   ],
   "source": [
    "import re\n",
    "\n",
    "# Tokenize a document into sentences\n",
    "document = \"This is the first sentence. This is the second sentence.\"\n",
    "sentences = re.findall(r'(?<=[.!?])\\s+', document)\n",
    "print(\"Sentences in the document:\", sentences)\n"
   ]
  },
  {
   "cell_type": "markdown",
   "id": "a72f4675-f34b-4ac5-ab91-f4cfa08d298a",
   "metadata": {},
   "source": [
    "## 📊 Data Parsing\r",
    "-  \n",
    "Extract structured information from unstructured text."
   ]
  },
  {
   "cell_type": "code",
   "execution_count": 9,
   "id": "e71f7bd8-f5ec-46ef-a484-30971b6e785e",
   "metadata": {},
   "outputs": [
    {
     "name": "stdout",
     "output_type": "stream",
     "text": [
      "Timestamp: 2022-02-25 12:30:45\n",
      "Log level: INFO\n",
      "Message: User logged in: username123\n"
     ]
    }
   ],
   "source": [
    "import re\n",
    "\n",
    "# Parse log files for specific data fields\n",
    "log_entry = \"2022-02-25 12:30:45 - INFO - User logged in: username123\"\n",
    "log_pattern = r'(\\d{4}-\\d{2}-\\d{2} \\d{2}:\\d{2}:\\d{2}) - (\\w+) - (.+)'\n",
    "parsed_data = re.match(log_pattern, log_entry)\n",
    "if parsed_data:\n",
    "    print(\"Timestamp:\", parsed_data.group(1))\n",
    "    print(\"Log level:\", parsed_data.group(2))\n",
    "    print(\"Message:\", parsed_data.group(3))\n"
   ]
  },
  {
   "cell_type": "code",
   "execution_count": 12,
   "id": "73dab7b3-f2d4-412a-9bf2-1b57db5c0568",
   "metadata": {},
   "outputs": [
    {
     "name": "stdout",
     "output_type": "stream",
     "text": [
      "CSV data: [('John', 'Doe', '30'), ('Jane', 'Smith', '25')]\n"
     ]
    }
   ],
   "source": [
    "import re\n",
    "\n",
    "# Extract data from a CSV file\n",
    "csv_data = \"John,Doe,30\\nJane,Smith,25\\n\"\n",
    "csv_pattern = r'(\\w+),(\\w+),(\\d+)'\n",
    "matches = re.findall(csv_pattern, csv_data)\n",
    "print(\"CSV data:\", matches)\n"
   ]
  },
  {
   "cell_type": "markdown",
   "id": "36eb207d-7191-4e81-bfae-01fbaf2a6fe9",
   "metadata": {},
   "source": [
    "# ✅ CODE EXPLAINATION"
   ]
  },
  {
   "cell_type": "markdown",
   "id": "b4d1f9a3-a5ee-4b78-b704-79a7af90ddda",
   "metadata": {},
   "source": [
    "# Password Generation with Constraints\r\n",
    "\r\n",
    "This Python script generates a random password with specific constraints.\r\n",
    "\r\n",
    "---\r\n",
    "\r\n",
    "## Dependencies\r\n",
    "\r\n",
    "- **re**: Provides support for working with regular expressions.\r\n",
    "- **secrets**: Generates cryptographically strong random numbers.\r\n",
    "- **string**: Contains string constants and functions for manipulating strings.\r\n",
    "\r\n",
    "---\r\n",
    "\r\n",
    "## Functionality\r\n",
    "\r\n",
    "The `generate_password` function generates a password with the following constraints:\r\n",
    "\r\n",
    "- **length**: Length of the password (default: 16).\r\n",
    "- **nums**: Minimum number of digits (default: 1).\r\n",
    "- **special_chars**: Minimum number of special characters (default: 1).\r\n",
    "- **uppercase**: Minimum number of uppercase letters (default: 1).\r\n",
    "- **lowercase**: Minimum number of lowercase letters (default: 1).\r\n",
    "\r\n",
    "The password is generated by randomly selecting characters from letters (both uppercase and lowercase), digits, and special characters. The function then ensures that the generated password meets the specified constraints by using regular expressions to count the occurrences of digits, special characters, uppercase letters, and lowercase letters.\r\n",
    "\r\n",
    "---\r\n",
    "\r\n",
    "## Usage\r\n",
    "\r\n",
    "To use the script, call the `generate_password` function without any arguments:\r\n",
    "\r\n",
    "```python\r\n",
    "new_password = generate_password()\r\n",
    "print('Generated password:', new_password)\r\n"
   ]
  },
  {
   "cell_type": "code",
   "execution_count": null,
   "id": "85e1d412-403f-4c37-9574-ce2ba1415aab",
   "metadata": {},
   "outputs": [],
   "source": []
  }
 ],
 "metadata": {
  "kernelspec": {
   "display_name": "Python 3 (ipykernel)",
   "language": "python",
   "name": "python3"
  },
  "language_info": {
   "codemirror_mode": {
    "name": "ipython",
    "version": 3
   },
   "file_extension": ".py",
   "mimetype": "text/x-python",
   "name": "python",
   "nbconvert_exporter": "python",
   "pygments_lexer": "ipython3",
   "version": "3.11.5"
  }
 },
 "nbformat": 4,
 "nbformat_minor": 5
}
