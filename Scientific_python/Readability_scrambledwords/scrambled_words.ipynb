{
 "cells": [
  {
   "cell_type": "markdown",
   "id": "a0ba9839",
   "metadata": {},
   "source": [
    "### Scrambled words are words in which the letters have been rearranged, making the original word difficult to recognize. The purpose of scrambling words is often for entertainment or as a puzzle. Here's an example:\n",
    "\n",
    "```Original word: PYTHON\n",
    "Scrambled word: YHTNOP```\n",
    "\n",
    "In our case the first and last letter are kept fixed the middle ones are shuffled"
   ]
  },
  {
   "cell_type": "markdown",
   "id": "5b40eef7",
   "metadata": {},
   "source": [
    "### Create the Scrambling Function"
   ]
  },
  {
   "cell_type": "code",
   "execution_count": 27,
   "id": "51564688",
   "metadata": {},
   "outputs": [],
   "source": [
    "import random"
   ]
  },
  {
   "cell_type": "code",
   "execution_count": 41,
   "id": "a9682b24",
   "metadata": {},
   "outputs": [],
   "source": [
    "\n",
    "def scramble_word(word):\n",
    "    if len(word)<=4 or not word.isalpha():\n",
    "        return word\n",
    "    else:\n",
    "        middle_letters = list(word[1:-1])\n",
    "        random.shuffle(middle_letters)\n",
    "        scrambled_word = word[0]+\"\".join(middle_letters)+word[-1]\n",
    "    return scrambled_word\n",
    "    "
   ]
  },
  {
   "cell_type": "code",
   "execution_count": 42,
   "id": "909b3e1f",
   "metadata": {},
   "outputs": [],
   "source": [
    "def scramble_sentence(sentence):\n",
    "    scrambled_result_list = []\n",
    "    words = sentence.split()\n",
    "    for word in words:\n",
    "            scrambled_result_list.append(scramble_word(word))\n",
    "    scrambled_result = \" \".join(scrambled_result_list) \n",
    "    \n",
    "    return scrambled_result"
   ]
  },
  {
   "cell_type": "code",
   "execution_count": 44,
   "id": "78a6e3ea",
   "metadata": {},
   "outputs": [
    {
     "name": "stdout",
     "output_type": "stream",
     "text": [
      "Welcome to the Word Scrambler!\n",
      "Enter a sentence, and I'll scramble it for you.\n",
      "Type 'exit' to end the program.\n",
      "Enter a space seperated words of a sentence: I am reading a fantastic book with 123 pages in it and publication number  298765432\n",
      "Original sentence: i am reading a fantastic book with 123 pages in it and publication number  298765432\n",
      "Scrambled sentence: i am rdnieag a ftniaatsc book with 123 paegs in it and ptioilacubn nuembr 298765432\n",
      "\n",
      "\n",
      "Enter a space seperated words of a sentence: exit\n",
      "Exiting the Word Scrambler. Goodbye!\n"
     ]
    }
   ],
   "source": [
    "def main():\n",
    "    print(\"Welcome to the Word Scrambler!\")\n",
    "    print(\"Enter a sentence, and I'll scramble it for you.\")\n",
    "    print(\"Type 'exit' to end the program.\")\n",
    "\n",
    "    while True:\n",
    "        user_input = input(\"Enter a space seperated words of a sentence: \").lower()\n",
    "\n",
    "        if user_input == 'exit':\n",
    "            print(\"Exiting the Word Scrambler. Goodbye!\")\n",
    "            break\n",
    "\n",
    "\n",
    "        scrambled_result = scramble_sentence(user_input)\n",
    "        print(f\"Original sentence: {user_input}\")\n",
    "        print(f\"Scrambled sentence: {scrambled_result}\")\n",
    "        print(\"\\n\")\n",
    "\n",
    "if __name__ == \"__main__\":\n",
    "    main()\n"
   ]
  },
  {
   "cell_type": "code",
   "execution_count": null,
   "id": "c7fab3da",
   "metadata": {},
   "outputs": [],
   "source": []
  },
  {
   "cell_type": "markdown",
   "id": "ab70617e",
   "metadata": {},
   "source": [
    "# Replace the middle letters with random letters from alphabets"
   ]
  },
  {
   "cell_type": "code",
   "execution_count": 54,
   "id": "e4adb4a4",
   "metadata": {},
   "outputs": [],
   "source": [
    "\n",
    "def scramble_word(word):\n",
    "    if len(word)<=4 or not word.isalpha():\n",
    "        return word\n",
    "    else:\n",
    "        mid_str = \"\"\n",
    "        middle_letters = list(word[1:-1])\n",
    "        for i in range(len(middle_letters)):\n",
    "            letter = chr(random.randint(ord(\"a\"),ord(\"z\")))\n",
    "            mid_str+=letter\n",
    "        scrambled_word = word[0]+mid_str+word[-1]\n",
    "    return scrambled_word"
   ]
  },
  {
   "cell_type": "code",
   "execution_count": 55,
   "id": "ff13d7b7",
   "metadata": {},
   "outputs": [],
   "source": [
    "def scramble_sentence(sentence):\n",
    "    scrambled_result_list = []\n",
    "    words = sentence.split()\n",
    "    for word in words:\n",
    "            scrambled_result_list.append(scramble_word(word))\n",
    "    scrambled_result = \" \".join(scrambled_result_list) \n",
    "    \n",
    "    return scrambled_result"
   ]
  },
  {
   "cell_type": "code",
   "execution_count": 56,
   "id": "7bfdb1c0",
   "metadata": {},
   "outputs": [
    {
     "name": "stdout",
     "output_type": "stream",
     "text": [
      "Welcome to the Word Scrambler!\n",
      "Enter a sentence, and I'll scramble it for you.\n",
      "Type 'exit' to end the program.\n",
      "Enter a space seperated words of a sentence: I am reading a fantastic book with 123 pages in it and publication number  298765432\n",
      "Original sentence: i am reading a fantastic book with 123 pages in it and publication number  298765432\n",
      "Scrambled sentence: i am rrplicg a fiicemnwc book with 123 pkmcs in it and pqrfcquojxn nnbfvr 298765432\n",
      "\n",
      "\n",
      "Enter a space seperated words of a sentence: exit\n",
      "Exiting the Word Scrambler. Goodbye!\n"
     ]
    }
   ],
   "source": [
    "def main():\n",
    "    print(\"Welcome to the Word Scrambler!\")\n",
    "    print(\"Enter a sentence, and I'll scramble it for you.\")\n",
    "    print(\"Type 'exit' to end the program.\")\n",
    "\n",
    "    while True:\n",
    "        user_input = input(\"Enter a space seperated words of a sentence: \").lower()\n",
    "\n",
    "        if user_input == 'exit':\n",
    "            print(\"Exiting the Word Scrambler. Goodbye!\")\n",
    "            break\n",
    "\n",
    "\n",
    "        scrambled_result = scramble_sentence(user_input)\n",
    "        print(f\"Original sentence: {user_input}\")\n",
    "        print(f\"Scrambled sentence: {scrambled_result}\")\n",
    "        print(\"\\n\")\n",
    "\n",
    "if __name__ == \"__main__\":\n",
    "    main()\n"
   ]
  },
  {
   "cell_type": "code",
   "execution_count": null,
   "id": "5fd0702a",
   "metadata": {},
   "outputs": [],
   "source": []
  }
 ],
 "metadata": {
  "kernelspec": {
   "display_name": "Python 3 (ipykernel)",
   "language": "python",
   "name": "python3"
  },
  "language_info": {
   "codemirror_mode": {
    "name": "ipython",
    "version": 3
   },
   "file_extension": ".py",
   "mimetype": "text/x-python",
   "name": "python",
   "nbconvert_exporter": "python",
   "pygments_lexer": "ipython3",
   "version": "3.9.7"
  }
 },
 "nbformat": 4,
 "nbformat_minor": 5
}
